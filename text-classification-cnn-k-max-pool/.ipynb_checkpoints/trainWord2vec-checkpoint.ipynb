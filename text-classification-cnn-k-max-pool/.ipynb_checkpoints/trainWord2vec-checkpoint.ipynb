{
 "cells": [
  {
   "cell_type": "code",
   "execution_count": 1,
   "metadata": {
    "collapsed": false
   },
   "outputs": [],
   "source": [
    "\n",
    "import os\n",
    "import sys\n",
    "import time\n",
    "from datetime import timedelta\n",
    "\n",
    "import numpy as np\n",
    "import tensorflow as tf\n",
    "from sklearn import metrics\n",
    "\n",
    "from modelOneConv import *\n",
    "from dataOwn import *\n",
    "import pickle\n"
   ]
  },
  {
   "cell_type": "code",
   "execution_count": 2,
   "metadata": {
    "collapsed": false
   },
   "outputs": [],
   "source": [
    "class CnnKMaxPoolModel:\n",
    "    def __init__(self):\n",
    "        \n",
    "        self.config = TCNN_K_Config()\n",
    "        self.vocabulary_word2index, self.vocabulary_index2word  = create_voabulary(self.config.word2vec_model_path)\n",
    "        self.config.vocab_size = len(self.vocabulary_word2index)+1\n",
    "        #这里通过实际的word2vec模型统计词典中词的数量，赋值到config中，然后加载RNN模型\n",
    "        self.model = CNN_K_MAXPOOL_DISEASE(self.config)\n",
    "        print(self.config.vocab_size)\n",
    "        self.word2vecModel = Word2Vec.load(self.config.word2vec_model_path)\n",
    "    \n",
    "        self.save_dir = 'checkpoints/textrnn'\n",
    "        self.save_path = os.path.join(self.save_dir, 'best_validation')  # 最佳验证结果保存路径\n",
    "        \n",
    "        self.session = tf.Session()\n",
    "        self.session.run(tf.global_variables_initializer())\n",
    "        self.saver = tf.train.Saver()\n",
    "        #if not os.path.exists(save_dir):\n",
    "        #    os.makedirs(save_dir)\n",
    "        #saver.restore(sess=self.session, save_path=save_path)  # 读取保存的模型\n",
    "        \n",
    "    def get_time_dif(self,start_time):\n",
    "        \"\"\"获取已使用时间\"\"\"\n",
    "        end_time = time.time()\n",
    "        time_dif = end_time - start_time\n",
    "        return timedelta(seconds=int(round(time_dif)))\n",
    "\n",
    "\n",
    "    def feed_data(self,x_batch, y_batch, keep_prob):\n",
    "        feed_dict = {\n",
    "            self.model.input_x: x_batch,\n",
    "            self.model.input_y: y_batch,\n",
    "            self.model.dropout_keep_prob: keep_prob\n",
    "        }\n",
    "        return feed_dict\n",
    "\n",
    "\n",
    "    def evaluate(self,sess, x, y):\n",
    "        \"\"\"评估在某一数据上的准确率和损失\"\"\"\n",
    "        #batch_eval = batch_iter(x_, y_, config.batch_size)\n",
    "        batch_size = self.config.batch_size\n",
    "        total_loss = 0.0\n",
    "        total_acc = 0.0\n",
    "        eval_out = []\n",
    "        data_len = len(x)\n",
    "        num_batch = int((data_len - 1) / batch_size) + 1\n",
    "\n",
    "        indices = np.random.permutation(np.arange(data_len))\n",
    "        print(\"data_len=\", data_len, \" num_batch=\", num_batch)\n",
    "        x = np.array(x)\n",
    "        y = np.array(y)\n",
    "        x_shuffle = x[indices]\n",
    "        y_shuffle = y[indices]\n",
    "\n",
    "        for i in range(num_batch):\n",
    "            start_id = i * batch_size\n",
    "            end_id = min((i + 1) * batch_size, data_len)\n",
    "            x_batch, y_batch =  x_shuffle[start_id:end_id], y_shuffle[start_id:end_id]\n",
    "\n",
    "            batch_len = len(x_batch)\n",
    "            feed_dict = self.feed_data(x_batch, y_batch, 1.0)\n",
    "            loss, acc, y_pred_cls = sess.run([self.model.loss, self.model.acc, self.model.y_pred_cls], feed_dict=feed_dict)\n",
    "            total_loss += loss * batch_len\n",
    "            total_acc += acc * batch_len\n",
    "            eval_out = np.concatenate([eval_out, y_pred_cls])\n",
    "\n",
    "        return total_loss / data_len, total_acc / data_len, eval_out, y_shuffle\n",
    "    \n",
    "    def train(self, x_train, y_train, x_val, y_val):\n",
    "        print(\"Configuring TensorBoard and Saver...\")\n",
    "        # 配置 Tensorboard，重新训练时，请将tensorboard文件夹删除，不然图会覆盖\n",
    "        tensorboard_dir = 'tensorboard/textcnn-k-maxpool'\n",
    "        if not os.path.exists(tensorboard_dir):\n",
    "            os.makedirs(tensorboard_dir)\n",
    "\n",
    "        tf.summary.scalar(\"loss\", self.model.loss)\n",
    "        tf.summary.scalar(\"accuracy\", self.model.acc)\n",
    "        merged_summary = tf.summary.merge_all()\n",
    "        writer = tf.summary.FileWriter(tensorboard_dir)\n",
    "\n",
    "        # 配置 Saver\n",
    "        #saver = tf.train.Saver()\n",
    "        if not os.path.exists(self.save_dir):\n",
    "            os.makedirs(self.save_dir)\n",
    "\n",
    "        print(\"Loading training and validation data...\")\n",
    "        # 载入训练集与验证集\n",
    "        start_time = time.time()\n",
    "        #x_train, y_train = process_file(train_dir, word_to_id, cat_to_id, config.seq_length)\n",
    "        #x_val, y_val = process_file(val_dir, word_to_id, cat_to_id, config.seq_length)\n",
    "        #time_dif = get_time_dif(start_time)\n",
    "        #print(\"Time usage:\", time_dif)\n",
    "\n",
    "        # 创建session\n",
    "        session = tf.Session()\n",
    "        session.run(tf.global_variables_initializer())\n",
    "        writer.add_graph(session.graph)\n",
    "\n",
    "        #y_real = session.run(tf.argmax(y_val, 1, name=\"predictions_real\"))\n",
    "\n",
    "        if self.config.use_embedding:  # load pre-trained word embedding\n",
    "            assign_pretrained_word_embedding(session, self.model, self.word2vecModel,self.config.embed_size )\n",
    "\n",
    "        print('Training and evaluating...')\n",
    "        start_time = time.time()\n",
    "        total_batch = 0  # 总批次\n",
    "        best_acc_val = 0.0  # 最佳验证集准确率\n",
    "        last_improved = 0  # 记录上一次提升批次\n",
    "        require_improvement = 1000  # 如果超过1000轮未提升，提前结束训练\n",
    "\n",
    "        flag = False\n",
    "        for epoch in range(self.config.num_epochs):\n",
    "            print('Epoch:', epoch + 1)\n",
    "            batch_train = batch_iter(x_train, y_train, self.config.batch_size)\n",
    "            for x_batch, y_batch in batch_train:\n",
    "                feed_dict = self.feed_data(x_batch, y_batch, self.config.dropout_keep_prob)\n",
    "                #print(\"total_batch=\", total_batch,\"config.save_per_batch=\",config.save_per_batch)\n",
    "                #print(\"total_batch=\",total_batch,config.print_per_batch )\n",
    "                if total_batch % self.config.print_per_batch == 1:\n",
    "                    # 每多少轮次输出在训练集和验证集上的性能\n",
    "                    total_loss, total_acc, eval_out, y_real = self.evaluate(session, x_val, y_val)\n",
    "                    #y_realNew = session.run(y_real)\n",
    "                    print(\"total_batch=\", total_batch, \" total_loss=\", total_loss, \" total_acc=\", total_acc)\n",
    "                    print(y_real[0:10])\n",
    "                    print(eval_out[0:10])\n",
    "                    print(metrics.classification_report(y_real,eval_out))\n",
    "\n",
    "                    if total_acc > best_acc_val:\n",
    "                        # 保存最好结果\n",
    "                        best_acc_val = total_acc\n",
    "                        last_improved = total_batch\n",
    "                        self.saver.save(sess=session, save_path=self.save_path)\n",
    "                        improved_str = '*'\n",
    "                        print(\"==========best==========\")\n",
    "\n",
    "                        print(metrics.classification_report(y_real,eval_out))\n",
    "                    else:\n",
    "                        improved_str = ''\n",
    "                if total_batch % self.config.save_per_batch == 1:\n",
    "                    # 每多少轮次将训练结果写入tensorboard scalar\n",
    "                    s = session.run(merged_summary, feed_dict=feed_dict)\n",
    "                    writer.add_summary(s, total_batch)\n",
    "\n",
    "\n",
    "                    time_dif = self.get_time_dif(start_time)\n",
    "                    msg = 'Iter: {0:>6}, Train Loss: {1:>6.2}, Train Acc: {2:>7.2%},' \\\n",
    "                          + ' Val Loss: {3:>6.2}, Val Acc: {4:>7.2%}, Time: {5} {6}'\n",
    "                    #print(msg.format(total_batch, loss_train, acc_train, loss_val, acc_val, time_dif, improved_str))\n",
    "\n",
    "                _ = session.run(self.model.train_op, feed_dict=feed_dict)  # 运行优化\n",
    "                #logits = session.run(model.logits, feed_dict = feed_dict)\n",
    "                #print(logits[0:10])\n",
    "                #y_pred_cls = session.run(model.y_pred_cls, feed_dict = feed_dict)\n",
    "                #print(y_pred_cls[0:10])\n",
    "                total_batch += 1\n",
    "\n",
    "                #if total_batch - last_improved > require_improvement:\n",
    "                #    # 验证集正确率长期不提升，提前结束训练\n",
    "                #    print(\"No optimization for a long time, auto-stopping...\")\n",
    "                #    flag = True\n",
    "                #    break  # 跳出循环\n",
    "\n",
    "            if flag:  # 同上\n",
    "                break"
   ]
  },
  {
   "cell_type": "code",
   "execution_count": 3,
   "metadata": {
    "collapsed": false
   },
   "outputs": [
    {
     "name": "stdout",
     "output_type": "stream",
     "text": [
      "weight shape: [7, 100, 1, 6]\n",
      "weight shape: [1200, 100]\n",
      "weight shape: [100, 14]\n",
      "input shape0= (?, 50)\n",
      "sent_embed shape= Tensor(\"inference/embedding_lookup:0\", shape=(?, 50, 100), dtype=float32)\n",
      "input shape: (?, 50, 100, 1)\n",
      "input_unstack shape: 100\n",
      "conv1-con shape= (?, 50, 100, 6)\n",
      "conv1-kemax-pool shape= (?, 50, 100, 6)\n",
      "trained shape= (?, 1200)\n",
      "out shape= (?, 14)\n",
      "232015\n"
     ]
    }
   ],
   "source": [
    "modelCNN = CnnKMaxPoolModel()"
   ]
  },
  {
   "cell_type": "code",
   "execution_count": 4,
   "metadata": {
    "collapsed": false
   },
   "outputs": [
    {
     "name": "stdout",
     "output_type": "stream",
     "text": [
      "load datasets ...\n"
     ]
    }
   ],
   "source": [
    "print(\"load datasets ...\")\n",
    "x_train, y_train = loadTrainOrTest_data_oneLabel(modelCNN.config.train_data_path, modelCNN.config.train_label_path,modelCNN.vocabulary_word2index)\n",
    "x_val, y_val = loadTrainOrTest_data_oneLabel(modelCNN.config.test_data_path, modelCNN.config.test_label_path, modelCNN.vocabulary_word2index)"
   ]
  },
  {
   "cell_type": "code",
   "execution_count": null,
   "metadata": {
    "collapsed": false
   },
   "outputs": [
    {
     "name": "stdout",
     "output_type": "stream",
     "text": [
      "start padding ...\n"
     ]
    }
   ],
   "source": [
    "print(\"start padding ...\")\n",
    "x_train = pad_sequences(x_train, modelCNN.config.sentence_length)  # padding to max length\n",
    "x_val = pad_sequences(x_val, modelCNN.config.sentence_length)  # padding to max length"
   ]
  },
  {
   "cell_type": "code",
   "execution_count": null,
   "metadata": {
    "collapsed": false
   },
   "outputs": [
    {
     "name": "stdout",
     "output_type": "stream",
     "text": [
      "Configuring TensorBoard and Saver...\n",
      "Loading training and validation data...\n",
      "vocab_size= 232014\n",
      "word. exists embedding: 232014  ;word not exist embedding: 0\n",
      "using pre-trained word emebedding.ended...\n",
      "Training and evaluating...\n",
      "Epoch: 1\n",
      "data_len= 86095  num_batch= 1346\n",
      "data_len= 21167  num_batch= 331\n"
     ]
    }
   ],
   "source": [
    "modelCNN.train(x_train, y_train, x_val, y_val)"
   ]
  },
  {
   "cell_type": "code",
   "execution_count": null,
   "metadata": {
    "collapsed": true
   },
   "outputs": [],
   "source": []
  },
  {
   "cell_type": "code",
   "execution_count": null,
   "metadata": {
    "collapsed": false
   },
   "outputs": [],
   "source": [
    "print(\"end\")"
   ]
  },
  {
   "cell_type": "code",
   "execution_count": null,
   "metadata": {
    "collapsed": true
   },
   "outputs": [],
   "source": []
  },
  {
   "cell_type": "code",
   "execution_count": null,
   "metadata": {
    "collapsed": true
   },
   "outputs": [],
   "source": []
  }
 ],
 "metadata": {
  "anaconda-cloud": {},
  "kernelspec": {
   "display_name": "Python [conda root]",
   "language": "python",
   "name": "conda-root-py"
  },
  "language_info": {
   "codemirror_mode": {
    "name": "ipython",
    "version": 3
   },
   "file_extension": ".py",
   "mimetype": "text/x-python",
   "name": "python",
   "nbconvert_exporter": "python",
   "pygments_lexer": "ipython3",
   "version": "3.5.2"
  }
 },
 "nbformat": 4,
 "nbformat_minor": 1
}
