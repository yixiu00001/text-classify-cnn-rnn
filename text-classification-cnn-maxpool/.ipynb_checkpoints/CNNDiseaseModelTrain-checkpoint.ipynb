{
 "cells": [
  {
   "cell_type": "code",
   "execution_count": 1,
   "metadata": {
    "collapsed": false
   },
   "outputs": [],
   "source": [
    "# -*- coding: utf8 -*-\n",
    "import os\n",
    "import sys\n",
    "import time\n",
    "from datetime import timedelta\n",
    "\n",
    "import numpy as np\n",
    "import tensorflow as tf\n",
    "from sklearn import metrics\n",
    "from gensim.models import Word2Vec\n",
    "\n",
    "from CNNDiseaseModel import CNNDisease,TCNNConfig\n",
    "from dataOwn import *\n",
    "import pickle\n"
   ]
  },
  {
   "cell_type": "code",
   "execution_count": 2,
   "metadata": {
    "collapsed": false
   },
   "outputs": [],
   "source": [
    "word2vec_model_path = \"../modelKey/word2VecModelsh.bin15_100_1e-05_15\"\n",
    "vocabulary_word2index, vocabulary_index2word  = create_voabulary(word2vec_model_path)"
   ]
  },
  {
   "cell_type": "code",
   "execution_count": 3,
   "metadata": {
    "collapsed": true
   },
   "outputs": [],
   "source": [
    "def get_time_dif(start_time):\n",
    "    \"\"\"获取已使用时间\"\"\"\n",
    "    end_time = time.time()\n",
    "    time_dif = end_time - start_time\n",
    "    return timedelta(seconds=int(round(time_dif)))\n",
    "\n",
    "\n",
    "def feed_data(x_batch, y_batch, keep_prob):\n",
    "    feed_dict = {\n",
    "        model.input_x: x_batch,\n",
    "        model.input_y: y_batch,\n",
    "        model.dropout_keep_prob: keep_prob\n",
    "    }\n",
    "    return feed_dict\n",
    "\n",
    "\n",
    "def evaluate(sess, x, y):\n",
    "    \"\"\"评估在某一数据上的准确率和损失\"\"\"\n",
    "    #batch_eval = batch_iter(x_, y_, config.batch_size)\n",
    "    batch_size = config.batch_size\n",
    "    total_loss = 0.0\n",
    "    total_acc = 0.0\n",
    "    eval_out = []\n",
    "    data_len = len(x)\n",
    "    num_batch = int((data_len - 1) / batch_size) + 1\n",
    "\n",
    "    indices = np.random.permutation(np.arange(data_len))\n",
    "    print(\"data_len=\", data_len, \" num_batch=\", num_batch)\n",
    "    x = np.array(x)\n",
    "    y = np.array(y)\n",
    "    x_shuffle = x[indices]\n",
    "    y_shuffle = y[indices]\n",
    "\n",
    "    for i in range(num_batch):\n",
    "        start_id = i * batch_size\n",
    "        end_id = min((i + 1) * batch_size, data_len)\n",
    "        x_batch, y_batch =  x_shuffle[start_id:end_id], y_shuffle[start_id:end_id]\n",
    "\n",
    "        batch_len = len(x_batch)\n",
    "        feed_dict = feed_data(x_batch, y_batch, 1.0)\n",
    "        loss, acc, y_pred_cls = sess.run([model.loss, model.acc, model.y_pred_cls], feed_dict=feed_dict)\n",
    "        total_loss += loss * batch_len\n",
    "        total_acc += acc * batch_len\n",
    "        eval_out = np.concatenate([eval_out, y_pred_cls])\n",
    "\n",
    "    return total_loss / data_len, total_acc / data_len, eval_out, y_shuffle\n",
    "                                 "
   ]
  },
  {
   "cell_type": "code",
   "execution_count": 4,
   "metadata": {
    "collapsed": true
   },
   "outputs": [],
   "source": [
    "def test():\n",
    "    print(\"Loading test data...\")\n",
    "    start_time = time.time()\n",
    "    #x_test, y_test = process_file(test_dir, word_to_id, cat_to_id, config.seq_length)\n",
    "    x_val, y_val = loadTrainOrTest_data_oneLabel(test_data_path, test_label_path, vocabulary_word2index,dictPath)\n",
    "    x_val = pad_sequences(x_val, sequence_length)  # padding to max length\n",
    "    \n",
    "    session = tf.Session()\n",
    "    session.run(tf.global_variables_initializer())\n",
    "    saver = tf.train.Saver()\n",
    "    saver.restore(sess=session, save_path=save_path)  # 读取保存的模型\n",
    "    \n",
    "    print('Testing...')\n",
    "    total_loss, total_acc, eval_out, y_real = evaluate(session, x_val, y_val)\n",
    "    print(\"total_loss=\", total_loss, \" total_acc=\", total_acc)\n",
    "    print(y_real[0:10])\n",
    "    print(eval_out[0:10])\n",
    "    print(classification_report(y_real,eval_out))\n",
    "    \n",
    "    cm = metrics.confusion_matrix(y_real, eval_out)\n",
    "    print(\"cm====\\n\", cm)\n",
    "    \n",
    "    time_dif = get_time_dif(start_time)\n",
    "    print(\"Time usage:\", time_dif)          "
   ]
  },
  {
   "cell_type": "code",
   "execution_count": 5,
   "metadata": {
    "collapsed": false
   },
   "outputs": [
    {
     "name": "stdout",
     "output_type": "stream",
     "text": [
      "Configuring RNN model...\n"
     ]
    }
   ],
   "source": [
    "print('Configuring RNN model...')\n",
    "config = TCNNConfig()\n"
   ]
  },
  {
   "cell_type": "code",
   "execution_count": 6,
   "metadata": {
    "collapsed": false
   },
   "outputs": [],
   "source": [
    "\n",
    "config.vocab_size = len(vocabulary_word2index)+1\n",
    "model = CNNDisease(config)"
   ]
  },
  {
   "cell_type": "code",
   "execution_count": 7,
   "metadata": {
    "collapsed": false
   },
   "outputs": [
    {
     "name": "stdout",
     "output_type": "stream",
     "text": [
      "Loading data...\n"
     ]
    }
   ],
   "source": [
    "# Load data\n",
    "print(\"Loading data...\")\n",
    "x_train, y_train = loadTrainOrTest_data_oneLabel(config.train_data_path, config.train_label_path,vocabulary_word2index)\n",
    "x_val, y_val = loadTrainOrTest_data_oneLabel(config.test_data_path, config.test_label_path, vocabulary_word2index)"
   ]
  },
  {
   "cell_type": "code",
   "execution_count": 8,
   "metadata": {
    "collapsed": false
   },
   "outputs": [
    {
     "name": "stdout",
     "output_type": "stream",
     "text": [
      "start padding ...\n"
     ]
    }
   ],
   "source": [
    "# 2.Data preprocessing.Sequence padding\n",
    "print(\"start padding ...\")\n",
    "x_train = pad_sequences(x_train, config.sequence_length)  # padding to max length\n",
    "x_val = pad_sequences(x_val, config.sequence_length)  # padding to max length"
   ]
  },
  {
   "cell_type": "code",
   "execution_count": 9,
   "metadata": {
    "collapsed": false
   },
   "outputs": [],
   "source": [
    " word2vecModel = Word2Vec.load(config.word2vec_model_path)"
   ]
  },
  {
   "cell_type": "code",
   "execution_count": 10,
   "metadata": {
    "collapsed": true
   },
   "outputs": [],
   "source": [
    "\n",
    "save_dir = 'checkpoints/textrnn'\n",
    "save_path = os.path.join(save_dir, 'best_validation')  # 最佳验证结果保存路径"
   ]
  },
  {
   "cell_type": "code",
   "execution_count": 11,
   "metadata": {
    "collapsed": true
   },
   "outputs": [],
   "source": [
    "from sklearn.metrics import classification_report\n",
    "def train():\n",
    "    print(\"Configuring TensorBoard and Saver...\")\n",
    "    # 配置 Tensorboard，重新训练时，请将tensorboard文件夹删除，不然图会覆盖\n",
    "    tensorboard_dir = 'tensorboard/textcnn'\n",
    "    if not os.path.exists(tensorboard_dir):\n",
    "        os.makedirs(tensorboard_dir)\n",
    "\n",
    "    tf.summary.scalar(\"loss\", model.loss)\n",
    "    tf.summary.scalar(\"accuracy\", model.acc)\n",
    "    merged_summary = tf.summary.merge_all()\n",
    "    writer = tf.summary.FileWriter(tensorboard_dir)\n",
    "\n",
    "    # 配置 Saver\n",
    "    saver = tf.train.Saver()\n",
    "    if not os.path.exists(save_dir):\n",
    "        os.makedirs(save_dir)\n",
    "\n",
    "    print(\"Loading training and validation data...\")\n",
    "    # 载入训练集与验证集\n",
    "    start_time = time.time()\n",
    "    #x_train, y_train = process_file(train_dir, word_to_id, cat_to_id, config.seq_length)\n",
    "    #x_val, y_val = process_file(val_dir, word_to_id, cat_to_id, config.seq_length)\n",
    "    time_dif = get_time_dif(start_time)\n",
    "    print(\"Time usage:\", time_dif)\n",
    "\n",
    "    # 创建session\n",
    "    session = tf.Session()\n",
    "    session.run(tf.global_variables_initializer())\n",
    "    writer.add_graph(session.graph)\n",
    "    \n",
    "    #y_real = session.run(tf.argmax(y_val, 1, name=\"predictions_real\"))\n",
    "    \n",
    "    if config.use_embedding:  # load pre-trained word embedding\n",
    "        assign_pretrained_word_embedding(session, model, word2vecModel,config.embed_size )\n",
    "\n",
    "    print('Training and evaluating...')\n",
    "    start_time = time.time()\n",
    "    total_batch = 0  # 总批次\n",
    "    best_acc_val = 0.0  # 最佳验证集准确率\n",
    "    last_improved = 0  # 记录上一次提升批次\n",
    "    require_improvement = 1000  # 如果超过1000轮未提升，提前结束训练\n",
    "\n",
    "    flag = False\n",
    "    for epoch in range(config.num_epochs):\n",
    "        print('Epoch:', epoch + 1)\n",
    "        batch_train = batch_iter(x_train, y_train, config.batch_size)\n",
    "        for x_batch, y_batch in batch_train:\n",
    "            feed_dict = feed_data(x_batch, y_batch, config.dropout_keep_prob)\n",
    "            #print(\"total_batch=\", total_batch,\"config.save_per_batch=\",config.save_per_batch)\n",
    "            #print(\"total_batch=\",total_batch,config.print_per_batch )\n",
    "            if total_batch % config.print_per_batch == 1:\n",
    "                # 每多少轮次输出在训练集和验证集上的性能\n",
    "                total_loss, total_acc, eval_out, y_real = evaluate(session, x_val, y_val)\n",
    "                #y_realNew = session.run(y_real)\n",
    "                print(\"total_batch=\", total_batch, \" total_loss=\", total_loss, \" total_acc=\", total_acc)\n",
    "                print(y_real[0:10])\n",
    "                print(eval_out[0:10])\n",
    "                print(classification_report(y_real,eval_out))\n",
    "    \n",
    "                if total_acc > best_acc_val:\n",
    "                    # 保存最好结果\n",
    "                    best_acc_val = total_acc\n",
    "                    last_improved = total_batch\n",
    "                    saver.save(sess=session, save_path=save_path)\n",
    "                    improved_str = '*'\n",
    "                    print(\"==========best==========\")\n",
    "\n",
    "                    print(classification_report(y_real,eval_out))\n",
    "                else:\n",
    "                    improved_str = ''\n",
    "            if total_batch % config.save_per_batch == 1:\n",
    "                # 每多少轮次将训练结果写入tensorboard scalar\n",
    "                s = session.run(merged_summary, feed_dict=feed_dict)\n",
    "                writer.add_summary(s, total_batch)\n",
    "\n",
    "\n",
    "                time_dif = get_time_dif(start_time)\n",
    "                msg = 'Iter: {0:>6}, Train Loss: {1:>6.2}, Train Acc: {2:>7.2%},' \\\n",
    "                      + ' Val Loss: {3:>6.2}, Val Acc: {4:>7.2%}, Time: {5} {6}'\n",
    "                #print(msg.format(total_batch, loss_train, acc_train, loss_val, acc_val, time_dif, improved_str))\n",
    "\n",
    "            session.run(model.train_op, feed_dict=feed_dict)  # 运行优化\n",
    "            #logits = session.run(model.logits, feed_dict = feed_dict)\n",
    "            #print(logits[0:10])\n",
    "            #y_pred_cls = session.run(model.y_pred_cls, feed_dict = feed_dict)\n",
    "            #print(y_pred_cls[0:10])\n",
    "            total_batch += 1\n",
    "\n",
    "            #if total_batch - last_improved > require_improvement:\n",
    "            #    # 验证集正确率长期不提升，提前结束训练\n",
    "            #    print(\"No optimization for a long time, auto-stopping...\")\n",
    "            #    flag = True\n",
    "            #    break  # 跳出循环\n",
    "        \n",
    "        if flag:  # 同上\n",
    "            break\n",
    "            "
   ]
  },
  {
   "cell_type": "code",
   "execution_count": 12,
   "metadata": {
    "collapsed": false
   },
   "outputs": [
    {
     "name": "stdout",
     "output_type": "stream",
     "text": [
      "Configuring TensorBoard and Saver...\n",
      "Loading training and validation data...\n",
      "Time usage: 0:00:00\n"
     ]
    },
    {
     "ename": "NameError",
     "evalue": "name 'use_embedding' is not defined",
     "output_type": "error",
     "traceback": [
      "\u001b[0;31m---------------------------------------------------------------------------\u001b[0m",
      "\u001b[0;31mNameError\u001b[0m                                 Traceback (most recent call last)",
      "\u001b[0;32m<ipython-input-12-93fd337a0d5c>\u001b[0m in \u001b[0;36m<module>\u001b[0;34m()\u001b[0m\n\u001b[0;32m----> 1\u001b[0;31m \u001b[0mtrain\u001b[0m\u001b[0;34m(\u001b[0m\u001b[0;34m)\u001b[0m\u001b[0;34m\u001b[0m\u001b[0m\n\u001b[0m",
      "\u001b[0;32m<ipython-input-11-eb45728fcc5c>\u001b[0m in \u001b[0;36mtrain\u001b[0;34m()\u001b[0m\n\u001b[1;32m     32\u001b[0m     \u001b[0;31m#y_real = session.run(tf.argmax(y_val, 1, name=\"predictions_real\"))\u001b[0m\u001b[0;34m\u001b[0m\u001b[0;34m\u001b[0m\u001b[0m\n\u001b[1;32m     33\u001b[0m \u001b[0;34m\u001b[0m\u001b[0m\n\u001b[0;32m---> 34\u001b[0;31m     \u001b[0;32mif\u001b[0m \u001b[0muse_embedding\u001b[0m\u001b[0;34m:\u001b[0m  \u001b[0;31m# load pre-trained word embedding\u001b[0m\u001b[0;34m\u001b[0m\u001b[0m\n\u001b[0m\u001b[1;32m     35\u001b[0m         \u001b[0massign_pretrained_word_embedding\u001b[0m\u001b[0;34m(\u001b[0m\u001b[0msession\u001b[0m\u001b[0;34m,\u001b[0m \u001b[0mmodel\u001b[0m\u001b[0;34m,\u001b[0m \u001b[0mword2vecModel\u001b[0m\u001b[0;34m,\u001b[0m\u001b[0mconfig\u001b[0m\u001b[0;34m.\u001b[0m\u001b[0membed_size\u001b[0m \u001b[0;34m)\u001b[0m\u001b[0;34m\u001b[0m\u001b[0m\n\u001b[1;32m     36\u001b[0m \u001b[0;34m\u001b[0m\u001b[0m\n",
      "\u001b[0;31mNameError\u001b[0m: name 'use_embedding' is not defined"
     ]
    }
   ],
   "source": [
    "train()"
   ]
  },
  {
   "cell_type": "code",
   "execution_count": null,
   "metadata": {
    "collapsed": true
   },
   "outputs": [],
   "source": []
  }
 ],
 "metadata": {
  "anaconda-cloud": {},
  "kernelspec": {
   "display_name": "Python [conda root]",
   "language": "python",
   "name": "conda-root-py"
  },
  "language_info": {
   "codemirror_mode": {
    "name": "ipython",
    "version": 3
   },
   "file_extension": ".py",
   "mimetype": "text/x-python",
   "name": "python",
   "nbconvert_exporter": "python",
   "pygments_lexer": "ipython3",
   "version": "3.5.2"
  }
 },
 "nbformat": 4,
 "nbformat_minor": 1
}
